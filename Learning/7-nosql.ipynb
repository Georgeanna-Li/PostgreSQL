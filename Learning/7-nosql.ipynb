{
 "cells": [
  {
   "cell_type": "markdown",
   "id": "35f359f6-6f6b-4ca1-9987-daa6fa757c84",
   "metadata": {},
   "source": [
    "# 7: Introduction to non-relational databases"
   ]
  },
  {
   "cell_type": "markdown",
   "id": "6f73cce4-b81b-4f10-b8bf-c3d1409ce933",
   "metadata": {},
   "source": [
    "## Outline\n",
    "\n",
    "- Relational vs non-relational databases\n",
    "- MongoDB: a NoSQL database management system\n",
    "- Basic queries in MongoDB"
   ]
  },
  {
   "cell_type": "markdown",
   "id": "87a5224f-b3a0-49b4-a65b-ff232e9e3b15",
   "metadata": {},
   "source": [
    "- Many concepts are shared between relational and non-relational databases (this extends even to the SQL syntax itself in some cases, e.g. SQL syntax used in Hive and Couchbase)\n",
    "- The theory behind SQL is a little bit more involved and takes more time to feel comfortable with\n",
    "- Relational databases are more common, and all of them share the same query language"
   ]
  },
  {
   "cell_type": "markdown",
   "id": "8e78d354-62b1-4bde-b677-910d5b7166f8",
   "metadata": {},
   "source": [
    "## Relational databases"
   ]
  },
  {
   "cell_type": "markdown",
   "id": "56d63dad-1198-400e-a7ba-8886a1b54be8",
   "metadata": {},
   "source": [
    "Remember we talked about why everything is not stored in a single table?\n",
    "\n",
    "The relational model is designed to enable the database to enforce referential integrity between tables in the database, normalized to reduce the redundancy, and generally optimized for storage."
   ]
  },
  {
   "cell_type": "markdown",
   "id": "e9e00187-b4eb-45fc-a7c2-9aa62ac35aae",
   "metadata": {},
   "source": [
    "### Importance of normalization"
   ]
  },
  {
   "cell_type": "markdown",
   "id": "2846c03d-12ec-44e3-ab07-e7fb5cf90e01",
   "metadata": {},
   "source": [
    "Normalization is the process of designing tables and relationships in a database such that there are no unnecessary duplication of data and update anomalies are minimized.\n",
    "\n",
    "Relational databases are usually normalized to ensure that\n",
    "\n",
    "- Redundancies are eliminated or minimized\n",
    "- Data integrity can be maintained with ease\n",
    "\n",
    "[Here](https://towardsdatascience.com/database-normalization-explained-53e60a494495) is a great blog post that works through an example of normalizing a database.\n",
    "\n",
    "- Relational databases are best suited when strong consistency/integrity is needed, and the nature of the operations is transactional.\n",
    "- But there is a price to pay: relational databases require significant upfront design and preparation."
   ]
  },
  {
   "cell_type": "markdown",
   "id": "bfab62d7-3674-43cc-a513-8722ec1e52fb",
   "metadata": {},
   "source": [
    "### The problem of scaling\n",
    "\n",
    "A major problem with relational databases is that if we need to provide service to a larger user base, or if our database grows in size, vertical scaling is our best option.\n",
    "\n",
    "**Vertical scaling (or scaling up):** Buying a more powerful server with more CPU, RAM, and disk space\n",
    "\n",
    "However, you can only go so far by scaling vertically. Ultimately, there is a point where no one single server can serve our needs, no matter how powerful it is.\n",
    "\n",
    "**Horizontal scaling (or scaling out):** Buying many cheap (commodity) computers to store and process our data. With horizontal scaling, there is no theoretical limit as to how much you can scale your database service.\n",
    "\n",
    "> Horizontal scaling is the core idea of the new paradigm of distributed computing and storage systems.\n",
    "\n",
    "<img src=\"img/lecture7/scale_up_out.png\" width=\"600\">\n",
    "\n",
    "([image source](https://www.cloudzero.com/blog/horizontal-vs-vertical-scaling))"
   ]
  },
  {
   "cell_type": "markdown",
   "id": "a28bd1e9-d169-436f-a5bd-ab58cf433c76",
   "metadata": {},
   "source": [
    "### Distribution models\n",
    "\n",
    "Why do we need to scale our DBMS resources?\n",
    "\n",
    "- To increase availability\n",
    "  - Replication: the same data is copied over multiple nodes\n",
    "- To store big data\n",
    "  - Sharding (or partitioning): different data chunks are put on different nodes"
   ]
  },
  {
   "cell_type": "markdown",
   "id": "df362036-da74-4231-99c3-e94ec31f3ad8",
   "metadata": {},
   "source": [
    "### Downsides of relational databases\n",
    "\n",
    "- Relational databases have fixed, inflexible data models, and are therefore not suitable for rapid evolution and development.\n",
    "- Limited to one powerful servers. Usually scaling up is the only option."
   ]
  },
  {
   "cell_type": "markdown",
   "id": "dc7f2d6c-61cd-4312-9e14-098a9e0d6a64",
   "metadata": {},
   "source": [
    "## Non-relational databases\n",
    "\n",
    "Non-relational or NoSQL databases store data in a different format than relational databases. NoSQL stands for _Non SQL_ or _Not only SQL_.\n",
    "\n",
    "- The data model can evolve as the requirements change. In other words, the schema is flexible\n",
    "- Horizontal scaling is built in\n",
    "- Queries are fast due to the data model (at the expense of redundancy). Relevant information is kept together rather than doing joins, which enhances the performance. Data models in NoSQL databases are typically optimized for queries and not for reducing data duplication.\n",
    "\n",
    "There was eventually a time that storage costs were not as significant anymore. Also, internet and the age of data appeared. The dynamic nature of many of today’s applications called for a new database systems that were able to handle large amounts of data together with flexibility in their structure.\n",
    "\n",
    "<img src=\"img/lecture7/storage_cost.png\" width=\"600\">\n",
    "\n",
    "([image source](https://www.mongodb.com/nosql-explained))\n",
    "\n",
    "It's important to note that\n",
    "\n",
    "- NoSQL databases are capable of storing relationship data, but they do it differently from RDBMSs\n",
    "- NoSQL databases support ACID too. In these databases, for example, data about a particular entity is stored in a single document (no need for joins across multiple tables)"
   ]
  },
  {
   "cell_type": "markdown",
   "id": "925e199c-c4c4-4d35-aad4-50a7628a4cfd",
   "metadata": {},
   "source": [
    "One important downside of NoSQL databases is that their query language is not standardized like SQL. Therefore, each NoSQL DBMS has its own query language. Some NoSQL DBMSs (e.g. Couchbase, Hive) support a SQL-like query language."
   ]
  },
  {
   "cell_type": "markdown",
   "id": "399c24ec-ebad-4eb6-8128-51e36de3a08a",
   "metadata": {},
   "source": [
    "### Different kinds of NoSQL DBMSs\n",
    "\n",
    "> \"All happy families are alike; each unhappy family is unhappy in its own way.\"<br>\n",
    "> — Leo Tolstoy in _Anna Karenina_ (1877)\n",
    "\n",
    "While relational databases are all more or less alike, each NoSQL database is non-relational in its own way:\n",
    "\n",
    "- Key-value\n",
    "  - Consists of only key-value pairs\n",
    "  - Good for querying only by key\n",
    "  - Good if all data of each key is usually needed\n",
    "  - Not good for querying by data\n",
    "  - Example: Amazon DynamoDB\n",
    "- Document-based\n",
    "  - Consists of documents and nested sub-documents (e.g. JSON, XML)\n",
    "  - Good for querying by keys and data\n",
    "  - Good for hierarchical tree structures\n",
    "  - Example: MongoDB, Couchbase\n",
    "- Graph\n",
    "  - Focuses on relationships between data\n",
    "  - Optimized for searching connections, avoids joins\n",
    "  - Few applications, run alongside other DBMSs\n",
    "  - Example: Amazon Neptune, Neo4j, OrientDB\n",
    "- Column-oriented\n",
    "  - Optimized for columnar access to data (as opposed to row-wise access in RDBMSs)\n",
    "  - Example: Google BigTable, Cassandra"
   ]
  },
  {
   "cell_type": "markdown",
   "id": "ff30d6bf-4406-45b5-817c-0f6bd041bec0",
   "metadata": {},
   "source": [
    "## MongoDB"
   ]
  },
  {
   "cell_type": "markdown",
   "id": "50df093e-d7b5-4c27-b07a-fb641ec207b5",
   "metadata": {},
   "source": [
    "<img src=\"img/lecture7/mongo.png\" width=\"400\">\n",
    "\n",
    "MongoDB is a document-based DBMS:\n",
    "\n",
    "- Released in 2009\n",
    "- Written in C++\n",
    "- Open source\n",
    "- Cross platform\n",
    "- Super fast\n",
    "\n",
    "MongoDB is based on JSON-like documents for data storage. It offers:\n",
    "\n",
    "- Native replication and sharding\n",
    "- Automatic scaling and load balancing\n",
    "- Multi-language support\n",
    "- Powerful query language"
   ]
  },
  {
   "cell_type": "markdown",
   "id": "59435ff0-27a0-444d-9773-24ba631f70f0",
   "metadata": {},
   "source": [
    "### Who uses MongoDB"
   ]
  },
  {
   "cell_type": "markdown",
   "id": "86a8c0a1-aba4-40aa-826e-0dd3e34ec50a",
   "metadata": {},
   "source": [
    "Google, ebay, Craigslist, Toyota, Forbes, Electronic Arts, Adobe, AstraZeneca, and the list goes on.\n",
    "\n",
    "(https://www.mongodb.com/who-uses-mongodb)"
   ]
  },
  {
   "cell_type": "markdown",
   "id": "dfc97a0f-11d7-4dbc-8628-0c161eff8a91",
   "metadata": {
    "tags": []
   },
   "source": [
    "### JSON\n",
    "\n",
    "- JSON is short for Java Script Object Notation.\n",
    "- JSON documents are simple containers, where a string key is mapped to a value (e.g. a number, string, function, another object).\n",
    "\n",
    "```json\n",
    "{\n",
    "  \"_id\": 1,\n",
    "  \"name\" : { \"first\" : \"John\", \"last\" : \"Backus\" },\n",
    "  \"contribs\" : [ \"Fortran\", \"ALGOL\", \"Backus-Naur Form\", \"FP\" ],\n",
    "  \"awards\" : [\n",
    "    {\n",
    "      \"award\" : \"W.W. McDowell Award\",\n",
    "      \"year\" : 1967,\n",
    "      \"by\" : \"IEEE Computer Society\"\n",
    "    }, {\n",
    "      \"award\" : \"Draper Prize\",\n",
    "      \"year\" : 1993,\n",
    "      \"by\" : \"National Academy of Engineering\"\n",
    "    }\n",
    "  ]\n",
    "}\n",
    "```\n",
    "\n",
    "JSON documents can be found everywhere:\n",
    "\n",
    "- APIs\n",
    "- Configuration files\n",
    "- Log messages\n",
    "- Database storage"
   ]
  },
  {
   "cell_type": "markdown",
   "id": "da1bf319-42db-49db-a00f-5b28a93718a8",
   "metadata": {},
   "source": [
    "### BSON\n",
    "\n",
    "Although the JSON document may look great for storing data **_as is_**, but it has a number of drawbacks:\n",
    "\n",
    "- JSON is text, and text parsing is very slow\n",
    "- JSON’s format is readable but not space-efficient (a database concern)\n",
    "- JSON's support of various data types is not great\n",
    "\n",
    "It's because of the above reasons that MongoDB stores data in BSON (Binary JSON) files, which address all of the above issues but still look like JSON when we work with them in MongoDB.\n",
    "\n",
    "For a an overview, see [here](https://www.mongodb.com/json-and-bson)."
   ]
  },
  {
   "cell_type": "markdown",
   "id": "c9c30254-16da-48d9-993d-d658f8afd24c",
   "metadata": {},
   "source": [
    "### Collections\n",
    "\n",
    "In MongoDB, a database consists of one or more **collections**, each containing multiple **documents**.\n",
    "\n",
    "<img src=\"img/lecture7/collection.png\" width=\"600\">"
   ]
  },
  {
   "cell_type": "markdown",
   "id": "e444423b-28ba-4457-a068-dfc10a7e78ba",
   "metadata": {},
   "source": [
    "### Documents"
   ]
  },
  {
   "cell_type": "markdown",
   "id": "f68bb4b7-72a8-4429-bd56-f4e09cdfdd9d",
   "metadata": {},
   "source": [
    "<img src=\"img/lecture7/document.png\" width=\"600\">\n",
    "\n",
    "- Each document contains field-value pairs\n",
    "- The field name `_id` acts as the primary key of each document, and should therefore be unique in a collection\n",
    "- MongoDB automatically assigns an `_id` value if not specified at the time of inserting a document\n",
    "- MongoDB creates an index on the `_id` field by default\n",
    "- The maximum size of a BSON document is about 16MB"
   ]
  },
  {
   "cell_type": "markdown",
   "id": "b1fdb76f-3977-4f1a-9ff7-b7762bf358f3",
   "metadata": {},
   "source": [
    "### MongoDB Atlas"
   ]
  },
  {
   "cell_type": "markdown",
   "id": "93fde982-222b-4202-90a8-f95b43643428",
   "metadata": {},
   "source": [
    "[MongoDB Atlas](https://docs.atlas.mongodb.com/) is a fully managed cloud database service, that automates the whole process of configuring, administration and maintaining of a database server for you. Basically, you specify what kind of server (CPU, RAM, number of nodes, location, etc.) you need, and MongoDB Atlas sets it up for you. They've partnered with Amazon Web Services, Google Cloud Platform, Microsoft Azure to host their database instances.\n",
    "\n",
    "The majority of these services are paid, however, they also offer a basic database service that is **free** and is best suited for learning and exploring. We can use the free MongoDB Atlas clusters for exploration. You can set up your own cluster [here](https://www.mongodb.com/cloud/atlas/register)."
   ]
  },
  {
   "cell_type": "markdown",
   "id": "4b701558-6efc-4969-97aa-4eb8ee53d016",
   "metadata": {},
   "source": [
    "### MongoDB interfaces"
   ]
  },
  {
   "cell_type": "markdown",
   "id": "472b8914-788e-40be-a7f9-4dc6ced8cad3",
   "metadata": {},
   "source": [
    "#### MongoDB shell (`mongosh`)"
   ]
  },
  {
   "cell_type": "markdown",
   "id": "c5612214-d605-4fb2-82e0-b2f06186f260",
   "metadata": {},
   "source": [
    "This is command line interface for interacting with a MongoDB database, similar to `psql` that we've used for Postgres. `mongosh` is based on the JavaScript language. "
   ]
  },
  {
   "cell_type": "markdown",
   "id": "cc15e47e-1bf0-4498-afb9-bfc5e6943fd6",
   "metadata": {},
   "source": [
    "#### MongoDB Compass"
   ]
  },
  {
   "cell_type": "markdown",
   "id": "90d9ae26-63c1-4375-aeda-c1c503a511b3",
   "metadata": {},
   "source": [
    "Compass is a versatile graphical user interface for using MongoDB databases. This is a similar application to pgAdmin that we've used for Postgres."
   ]
  },
  {
   "cell_type": "markdown",
   "id": "002f3889-b837-4607-b36b-f17f494c24d1",
   "metadata": {},
   "source": [
    "#### MongoDB's Python driver (`pymongo`)"
   ]
  },
  {
   "cell_type": "markdown",
   "id": "35e33594-92c9-42a2-8bed-fa07027accf2",
   "metadata": {},
   "source": [
    "And finally, `pymongo` is the official Python driver for MongoDB. You can take a look at `pymongo`s documentation [here](https://pymongo.readthedocs.io/en/stable/tutorial.html)."
   ]
  },
  {
   "cell_type": "code",
   "execution_count": 12,
   "id": "c99e4043-ab1d-4967-9b37-aa694a951685",
   "metadata": {},
   "outputs": [],
   "source": [
    "from pymongo import MongoClient\n",
    "import json\n",
    "\n",
    "with open('data/credentials_mongodb.json') as f:\n",
    "    login = json.load(f)\n",
    "\n",
    "client = MongoClient(**login)"
   ]
  },
  {
   "cell_type": "markdown",
   "id": "e691ecb3-8795-4e77-a900-86b99d87e423",
   "metadata": {},
   "source": [
    "## MongoDB query language (MQL)"
   ]
  },
  {
   "cell_type": "markdown",
   "id": "c959af2b-a43f-4a58-b656-d20b7369e5cb",
   "metadata": {},
   "source": [
    "<img src=\"img/lecture7/nosql.png\" width=\"400\">\n",
    "\n",
    "([image source](https://dataedo.com/cartoon/it-is-nosql))\n",
    "\n",
    "As mentioned earlier, there is no standard query language among NoSQL DBMSs. This is because each NoSQL DBMS supports a different data model and obviously no one language can suit all data models.\n",
    "\n",
    "MongoDB has its own query language known as MongoDB Query Language or MQL."
   ]
  },
  {
   "cell_type": "markdown",
   "id": "cf2ab2fc-a6fb-49c9-a693-2a8a405d7708",
   "metadata": {},
   "source": [
    "### Accessing databases and collections"
   ]
  },
  {
   "cell_type": "markdown",
   "id": "d127efb2-e7cf-4391-ab80-2396d369521c",
   "metadata": {},
   "source": [
    "Here is how we can access databases through different interfaces.\n",
    "\n",
    "**Compass**:\n",
    "\n",
    "It's just point and click. \n",
    "\n",
    "**`mongosh`**:\n",
    "```js\n",
    "show dbs\n",
    "use my_db\n",
    "```"
   ]
  },
  {
   "cell_type": "markdown",
   "id": "8688c732-cdea-4ab6-b524-180af522041f",
   "metadata": {},
   "source": [
    "**`pymongo`**:"
   ]
  },
  {
   "cell_type": "code",
   "execution_count": 15,
   "id": "1d989d10-430b-4cd4-bd17-38c76d220be6",
   "metadata": {},
   "outputs": [
    {
     "data": {
      "text/plain": [
       "Database(MongoClient(host=['mycluster-shard-00-00.1mbru.mongodb.net:27017', 'mycluster-shard-00-01.1mbru.mongodb.net:27017', 'mycluster-shard-00-02.1mbru.mongodb.net:27017'], document_class=dict, tz_aware=False, connect=True, retrywrites=True, w='majority', authsource='admin', replicaset='atlas-10q3lz-shard-0', ssl=True), 'my_db')"
      ]
     },
     "execution_count": 15,
     "metadata": {},
     "output_type": "execute_result"
    }
   ],
   "source": [
    "client = MongoClient(**login)\n",
    "my_db = client['my_db']\n",
    "my_db"
   ]
  },
  {
   "cell_type": "markdown",
   "id": "cd8dacc3-caec-49fa-803b-4a85982c6cbe",
   "metadata": {},
   "source": [
    "Running the above cell just gives you some information about our connection to the server. We'll learn how to run queries on this connection in a bit. For now, let's see what databases we have:"
   ]
  },
  {
   "cell_type": "code",
   "execution_count": 13,
   "id": "a0f856b5-05ee-4979-a400-9843fb432e23",
   "metadata": {},
   "outputs": [
    {
     "data": {
      "text/plain": [
       "['sample_airbnb',\n",
       " 'sample_analytics',\n",
       " 'sample_geospatial',\n",
       " 'sample_mflix',\n",
       " 'sample_restaurants',\n",
       " 'sample_supplies',\n",
       " 'sample_training',\n",
       " 'sample_weatherdata',\n",
       " 'admin',\n",
       " 'local']"
      ]
     },
     "execution_count": 13,
     "metadata": {},
     "output_type": "execute_result"
    }
   ],
   "source": [
    "client.list_database_names()"
   ]
  },
  {
   "cell_type": "markdown",
   "id": "2cbbc5fb-0477-4957-953a-0858522ae583",
   "metadata": {},
   "source": [
    "To access collections withing each database, use the following syntax:\n",
    "\n",
    "**`mongosh`**:\n",
    "```js\n",
    "db.my_collection.method()\n",
    "```"
   ]
  },
  {
   "cell_type": "markdown",
   "id": "e2fdbc2c-0ad1-458a-84f9-56e9138a40f4",
   "metadata": {},
   "source": [
    "**`pymongo`**:"
   ]
  },
  {
   "cell_type": "code",
   "execution_count": 16,
   "id": "a4816d2b-19d7-4b48-9b08-0bc39644a179",
   "metadata": {},
   "outputs": [
    {
     "data": {
      "text/plain": [
       "Collection(Database(MongoClient(host=['mycluster-shard-00-00.1mbru.mongodb.net:27017', 'mycluster-shard-00-01.1mbru.mongodb.net:27017', 'mycluster-shard-00-02.1mbru.mongodb.net:27017'], document_class=dict, tz_aware=False, connect=True, retrywrites=True, w='majority', authsource='admin', replicaset='atlas-10q3lz-shard-0', ssl=True), 'my_db'), 'my_collection')"
      ]
     },
     "execution_count": 16,
     "metadata": {},
     "output_type": "execute_result"
    }
   ],
   "source": [
    "my_collection = my_db['my_collection']\n",
    "my_collection"
   ]
  },
  {
   "cell_type": "markdown",
   "id": "13637cc5-f42c-46e2-b83d-29a5cdbfecb0",
   "metadata": {},
   "source": [
    "However, we will never use the database or collection objects simple like this. For now, let's take a look at the collections inside the `sample_mflix` database:"
   ]
  },
  {
   "cell_type": "code",
   "execution_count": 22,
   "id": "ab062a2b-d885-4491-9156-2b4b501f3270",
   "metadata": {},
   "outputs": [
    {
     "data": {
      "text/plain": [
       "['comments', 'users', 'movies', 'sessions', 'theaters']"
      ]
     },
     "execution_count": 22,
     "metadata": {},
     "output_type": "execute_result"
    }
   ],
   "source": [
    "client['sample_mflix'].list_collection_names()"
   ]
  },
  {
   "cell_type": "markdown",
   "id": "d4001648-05e2-432e-8258-8439c0e7cca9",
   "metadata": {},
   "source": [
    "Or alternatively:"
   ]
  },
  {
   "cell_type": "code",
   "execution_count": 21,
   "id": "ee40eb55-c3ae-4de2-97f3-b202fd796cac",
   "metadata": {},
   "outputs": [
    {
     "data": {
      "text/plain": [
       "['comments', 'users', 'movies', 'sessions', 'theaters']"
      ]
     },
     "execution_count": 21,
     "metadata": {},
     "output_type": "execute_result"
    }
   ],
   "source": [
    "client.sample_mflix.list_collection_names()"
   ]
  },
  {
   "cell_type": "markdown",
   "id": "72e1bbf7-4bda-4de3-852d-e864b320fe1e",
   "metadata": {},
   "source": [
    "A very important thing to know before using MQL is that\n",
    "\n",
    "> **Everything in MongoDB is a JSON-like document**\n",
    "\n",
    "even queries themselves!"
   ]
  },
  {
   "cell_type": "markdown",
   "id": "852bff04-e9f2-4ce7-8f64-b2242f970c3a",
   "metadata": {},
   "source": [
    "### `find`"
   ]
  },
  {
   "cell_type": "markdown",
   "id": "2c6611b2-f142-4646-9bff-33860a6bdf88",
   "metadata": {
    "jp-MarkdownHeadingCollapsed": true,
    "tags": []
   },
   "source": [
    "The main method used for querying documents is the `.find()` method. Here is an example of a query in MongoDB:\n",
    "\n",
    "**`mongosh`**:\n",
    "\n",
    "```js\n",
    "db.movies.find( {title: 'Titanic'} )\n",
    "```"
   ]
  },
  {
   "cell_type": "markdown",
   "id": "bbb959c9-b23e-44a9-b19f-c1bbf312dd64",
   "metadata": {
    "jp-MarkdownHeadingCollapsed": true,
    "tags": []
   },
   "source": [
    "**`pymongo`**:"
   ]
  },
  {
   "cell_type": "code",
   "execution_count": 27,
   "id": "5d0d33de-2580-4cab-9c7e-2ecf4f7d38d0",
   "metadata": {},
   "outputs": [
    {
     "data": {
      "text/plain": [
       "<pymongo.cursor.Cursor at 0x10e9dd9d0>"
      ]
     },
     "execution_count": 27,
     "metadata": {},
     "output_type": "execute_result"
    }
   ],
   "source": [
    "client['sample_mflix']['movies'].find( filter={'title': 'Titanic'} )"
   ]
  },
  {
   "cell_type": "markdown",
   "id": "e0c15825-b19d-4ef8-9706-4a674bb6881e",
   "metadata": {},
   "source": [
    "Using `filter=` is optional in the argument list, but if you remember from Python's Zen advice, \"_explicit is better than implicit_\"."
   ]
  },
  {
   "cell_type": "markdown",
   "id": "53fcc1e3-e5b7-4ac7-9fc7-13a0a58ceac6",
   "metadata": {},
   "source": [
    "Well, the above code doesn't do anything because it returns a cursor object which is basically a Python generator. Let's return the first element of this generator:"
   ]
  },
  {
   "cell_type": "code",
   "execution_count": null,
   "id": "e9ca14e5-5ffb-45ef-b052-ae5f898cbe12",
   "metadata": {},
   "outputs": [],
   "source": [
    "next(client['sample_mflix']['movies'].find( {'title': 'Titanic'} ))"
   ]
  },
  {
   "cell_type": "markdown",
   "id": "cace64e8-5d19-4a41-8995-74a7df890241",
   "metadata": {},
   "source": [
    "Or we can pass it to `list()` to materialize the generator entirely:"
   ]
  },
  {
   "cell_type": "code",
   "execution_count": null,
   "id": "40c6f174-d1bb-4465-844b-783af87c9e8c",
   "metadata": {},
   "outputs": [],
   "source": [
    "list(\n",
    "    client['sample_mflix']['movies'].find( {'title': 'Titanic'} )\n",
    ")"
   ]
  },
  {
   "cell_type": "markdown",
   "id": "86a8fb8d-556f-4e2b-96ec-dea2f7a11ef0",
   "metadata": {},
   "source": [
    "> **Note:** `.find( filter={} )` or `.find()` returns every document in the collection."
   ]
  },
  {
   "cell_type": "markdown",
   "id": "fa407ddf-e40a-44fb-8c37-c4998e428948",
   "metadata": {},
   "source": [
    "Note that there is another method `.findOne()` in `mongosh` and `.find_one()` in `pymongo`. This method returns only one document regardless of how many there are, according to the order in which documents are stored on the physical disk. It can be "
   ]
  },
  {
   "cell_type": "markdown",
   "id": "dc05e617-30b2-4227-9798-bc17f098acbd",
   "metadata": {},
   "source": [
    "### `projection`"
   ]
  },
  {
   "cell_type": "markdown",
   "id": "09f6ebfd-61b6-44d3-b095-1144eff02e67",
   "metadata": {},
   "source": [
    "Remember what projection meant in SQL? Returning a particular set of columns among all that exist in a table was called projection (of the results onto particular columns).\n",
    "\n",
    "Projection has a similar meaning in NoSQL: it means explicitly choosing the fields that we are interested in, instead of all fields that are returned by default. This is done by feeding a list of fields to the `projection=` argument, as well as a truthy of falsy value that indicates whether or not that field should be included."
   ]
  },
  {
   "cell_type": "markdown",
   "id": "ef2ffc97-26d1-4a72-81b3-c06b129d426b",
   "metadata": {},
   "source": [
    "For example, here I return the `title` and `year` fields only from the document in the result:"
   ]
  },
  {
   "cell_type": "markdown",
   "id": "345175fb-c162-4d2a-b963-b95442f3596a",
   "metadata": {},
   "source": [
    "**`mongosh`**:\n",
    "```js\n",
    "db.movies.find( {title: 'Titanic'}, {'title': 1, 'year': 1} )\n",
    "```"
   ]
  },
  {
   "cell_type": "markdown",
   "id": "40d30eac-0d1d-41c4-bd58-a3a5d0f122ea",
   "metadata": {},
   "source": [
    "**`pymongo`**:"
   ]
  },
  {
   "cell_type": "code",
   "execution_count": 30,
   "id": "8d9af62e-07f5-4c00-87f6-80bb594d9c57",
   "metadata": {},
   "outputs": [
    {
     "data": {
      "text/plain": [
       "[{'_id': ObjectId('573a1394f29313caabcdf639'),\n",
       "  'title': 'Titanic',\n",
       "  'year': 1953},\n",
       " {'_id': ObjectId('573a139af29313caabcefb1d'),\n",
       "  'title': 'Titanic',\n",
       "  'year': 1996},\n",
       " {'_id': ObjectId('573a139af29313caabcf0d74'),\n",
       "  'year': 1997,\n",
       "  'title': 'Titanic'}]"
      ]
     },
     "execution_count": 30,
     "metadata": {},
     "output_type": "execute_result"
    }
   ],
   "source": [
    "list(\n",
    "    client['sample_mflix']['movies'].find(\n",
    "        filter={'title': 'Titanic'},\n",
    "        projection={'title': 1, 'year': 1}\n",
    "    )\n",
    ")"
   ]
  },
  {
   "cell_type": "markdown",
   "id": "ffebf56f-b4d7-4090-8c8c-83f945ee92e8",
   "metadata": {},
   "source": [
    "> **Note:** In `pymongo`, you can use `True` instead of `1` and `False` instead of `0`."
   ]
  },
  {
   "cell_type": "markdown",
   "id": "709ad610-8050-485f-af67-7b49fbeaefa6",
   "metadata": {},
   "source": [
    "> **Note:** In `pymongo`, we need to enclose all field names in single or double quotes (e.g. `'title'` not `title`), otherwise Python would complain because it doesn't recognize those names. In `mongosh`, this is not necessary."
   ]
  },
  {
   "cell_type": "markdown",
   "id": "ba63265f-1806-44a3-9904-e052984a0993",
   "metadata": {},
   "source": [
    "In the above returned documents, note that the primary key field, namely, the `_id` field is always returned by default unless you explicitly exclude it using `{'_id': 0}` or `{'_id': False}`. **This is the only scenario where we might mix up `1`s and `0`s (or `True`s and `False`s) in the projection field.**"
   ]
  },
  {
   "cell_type": "code",
   "execution_count": 31,
   "id": "3bed23c1-4afa-4e0f-a0ab-44b2c133b7be",
   "metadata": {},
   "outputs": [
    {
     "data": {
      "text/plain": [
       "[{'title': 'Titanic', 'year': 1953},\n",
       " {'title': 'Titanic', 'year': 1996},\n",
       " {'year': 1997, 'title': 'Titanic'}]"
      ]
     },
     "execution_count": 31,
     "metadata": {},
     "output_type": "execute_result"
    }
   ],
   "source": [
    "list(\n",
    "    client['sample_mflix']['movies'].find(\n",
    "        filter={'title': 'Titanic'},\n",
    "        projection={'_id': 0, 'title': 1, 'year': 1}\n",
    "    )\n",
    ")"
   ]
  },
  {
   "cell_type": "markdown",
   "id": "4c8af612-8fe9-4704-bd60-bd861f880c3a",
   "metadata": {
    "tags": []
   },
   "source": [
    "### `sort`"
   ]
  },
  {
   "cell_type": "markdown",
   "id": "9e976a4c-9494-4092-8d12-e12f3219691b",
   "metadata": {},
   "source": [
    "**`mongosh`**:\n",
    "```js\n",
    "db.movies.find(<filter>, <projection>).sort( {runtime: 1, year:-1} )\n",
    "```"
   ]
  },
  {
   "cell_type": "markdown",
   "id": "12afb7ff-9d6b-424d-80c3-4cd80322d436",
   "metadata": {},
   "source": [
    "**`pymongo`**:"
   ]
  },
  {
   "cell_type": "code",
   "execution_count": 40,
   "id": "57c6cd2c-6955-4f1b-a99a-f4422567c2fd",
   "metadata": {},
   "outputs": [
    {
     "data": {
      "text/plain": [
       "[{'runtime': 98, 'title': 'Titanic', 'year': 1953},\n",
       " {'runtime': 173, 'title': 'Titanic', 'year': 1996},\n",
       " {'year': 1997, 'title': 'Titanic', 'runtime': 194}]"
      ]
     },
     "execution_count": 40,
     "metadata": {},
     "output_type": "execute_result"
    }
   ],
   "source": [
    "list(\n",
    "    client['sample_mflix']['movies'].find(\n",
    "        filter={'title': 'Titanic'},\n",
    "        projection={'_id': 0, 'title': 1, 'year': 1, 'runtime': 1},\n",
    "        sort=[('runtime', 1), ('year', -1)]\n",
    "    )\n",
    ")"
   ]
  },
  {
   "cell_type": "markdown",
   "id": "2e6f8460-c59f-4ad3-b64a-f13c3e75c1e5",
   "metadata": {},
   "source": [
    "### `limit`"
   ]
  },
  {
   "cell_type": "markdown",
   "id": "21f30407-c52d-4738-b638-d177fcfaddac",
   "metadata": {},
   "source": [
    "**`mongosh`**:\n",
    "```js\n",
    "db.movies.find({}, {title: 1, _id: 0}).limit(5)\n",
    "```"
   ]
  },
  {
   "cell_type": "markdown",
   "id": "6de969f8-3ae6-4b4a-93d6-9ed162526e67",
   "metadata": {},
   "source": [
    "**`pymongo`**:"
   ]
  },
  {
   "cell_type": "code",
   "execution_count": 42,
   "id": "e4694c07-fd48-4d92-acbc-7d166e816bb2",
   "metadata": {},
   "outputs": [
    {
     "data": {
      "text/plain": [
       "[{'title': 'Blacksmith Scene'},\n",
       " {'title': 'The Great Train Robbery'},\n",
       " {'title': 'The Land Beyond the Sunset'},\n",
       " {'title': 'A Corner in Wheat'},\n",
       " {'title': 'Winsor McCay, the Famous Cartoonist of the N.Y. Herald and His Moving Comics'}]"
      ]
     },
     "execution_count": 42,
     "metadata": {},
     "output_type": "execute_result"
    }
   ],
   "source": [
    "list(\n",
    "    client['sample_mflix']['movies'].find(\n",
    "        projection={'title': 1, '_id': 0},\n",
    "        limit=5\n",
    "    )\n",
    ")"
   ]
  },
  {
   "cell_type": "markdown",
   "id": "0f2c2873-b4ed-41b8-8d3a-3051acd70e1f",
   "metadata": {},
   "source": [
    "### `count` and `count_documents`"
   ]
  },
  {
   "cell_type": "markdown",
   "id": "df83140e-eb74-4628-a547-352a5c0f05ea",
   "metadata": {},
   "source": [
    "**`mongosh`**:\n",
    "```js\n",
    "db.movies.find({year:2000}).count()\n",
    "db.movies.countDocuments()\n",
    "```"
   ]
  },
  {
   "cell_type": "markdown",
   "id": "aa5921f8-a988-42c3-a090-82c0af288a6b",
   "metadata": {},
   "source": [
    "**`pymongo`**:"
   ]
  },
  {
   "cell_type": "code",
   "execution_count": 45,
   "id": "db4139ea-45ad-4a31-a8be-758bc95d811b",
   "metadata": {},
   "outputs": [
    {
     "data": {
      "text/plain": [
       "618"
      ]
     },
     "execution_count": 45,
     "metadata": {},
     "output_type": "execute_result"
    }
   ],
   "source": [
    "client['sample_mflix']['movies'].count_documents(filter={'year': 2000})"
   ]
  },
  {
   "cell_type": "markdown",
   "id": "ae6901fd-387f-4708-8b28-c6e6b39838f9",
   "metadata": {
    "tags": []
   },
   "source": [
    "### `skip`"
   ]
  },
  {
   "cell_type": "markdown",
   "id": "4edf82c5-85ca-485a-bf73-a1584c9e6245",
   "metadata": {},
   "source": [
    "**`mongosh`**:\n",
    "```js\n",
    "db.movies.find( filter={title: 'Titanic'}, projection={'title': 1, 'year': 1} ).skip(2)\n",
    "```"
   ]
  },
  {
   "cell_type": "markdown",
   "id": "095e5187-935e-4d21-8fb1-3f94f197ac33",
   "metadata": {},
   "source": [
    "**`pymongo`**:"
   ]
  },
  {
   "cell_type": "code",
   "execution_count": 46,
   "id": "c1e3c5c8-8763-455a-8d12-bd7499307509",
   "metadata": {},
   "outputs": [
    {
     "data": {
      "text/plain": [
       "[{'_id': ObjectId('573a139af29313caabcf0d74'),\n",
       "  'year': 1997,\n",
       "  'title': 'Titanic'}]"
      ]
     },
     "execution_count": 46,
     "metadata": {},
     "output_type": "execute_result"
    }
   ],
   "source": [
    "list(\n",
    "    client['sample_mflix']['movies'].find(\n",
    "        filter={'title': 'Titanic'},\n",
    "        projection={'title': 1, 'year': 1},\n",
    "        skip=2\n",
    "    )\n",
    ")"
   ]
  },
  {
   "cell_type": "markdown",
   "id": "6e005238-6285-4e5e-8403-66d84b292de2",
   "metadata": {
    "tags": []
   },
   "source": [
    "### `distinct`"
   ]
  },
  {
   "cell_type": "markdown",
   "id": "8c112612-891f-46a7-829c-cbc172552581",
   "metadata": {},
   "source": [
    "**`mongosh`**:\n",
    "```js\n",
    "db.movies.distinct( 'title', {title: 'Titanic'} )\n",
    "```"
   ]
  },
  {
   "cell_type": "markdown",
   "id": "a0d5c2d0-e9f3-4ea7-88c9-d525cd0362cd",
   "metadata": {},
   "source": [
    "**`pymongo`**:"
   ]
  },
  {
   "cell_type": "code",
   "execution_count": 52,
   "id": "32ecf93e-f160-4c8b-b3f7-24761060d4dc",
   "metadata": {},
   "outputs": [
    {
     "data": {
      "text/plain": [
       "['Titanic']"
      ]
     },
     "execution_count": 52,
     "metadata": {},
     "output_type": "execute_result"
    }
   ],
   "source": [
    "list(\n",
    "    client['sample_mflix']['movies'].find(\n",
    "        filter={'title': 'Titanic'},\n",
    "    ).distinct('title')\n",
    ")"
   ]
  },
  {
   "cell_type": "markdown",
   "id": "0dad6ba9-480b-44c0-918d-096d2d1b59e3",
   "metadata": {},
   "source": [
    "The `distinct` method here only returns unique **values**, not entire documents. In order to return documents that have unique values in certain fields, we need to use grouping through aggregation pipelines, which we'll see in the next notebook."
   ]
  }
 ],
 "metadata": {
  "kernelspec": {
   "display_name": "Python 3",
   "language": "python",
   "name": "python3"
  },
  "language_info": {
   "codemirror_mode": {
    "name": "ipython",
    "version": 3
   },
   "file_extension": ".py",
   "mimetype": "text/x-python",
   "name": "python",
   "nbconvert_exporter": "python",
   "pygments_lexer": "ipython3",
   "version": "3.9.5"
  }
 },
 "nbformat": 4,
 "nbformat_minor": 5
}
